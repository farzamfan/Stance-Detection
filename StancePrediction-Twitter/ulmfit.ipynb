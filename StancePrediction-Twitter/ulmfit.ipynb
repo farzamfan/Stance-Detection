{
 "cells": [
  {
   "cell_type": "markdown",
   "metadata": {},
   "source": [
    "# Stance Classification of Tweets using Transfer Learning\n",
    "This notebook shows how *transfer learning*, an extension of deep learning, can be used for predicting Tweet stance toward a particular topic."
   ]
  },
  {
   "cell_type": "markdown",
   "metadata": {},
   "source": [
    "# 1. Motivation\n",
    "\n",
    "The traditional approach to applying deep learning methods in NLP have involved feeding a model large amounts of labeled training data, and fitting the model's parameters to this data. In practice, natural language data is highly variable and can come in a variety of forms (tweets, blog posts, reviews etc.), and hence, a model trained for a particular language task does not generalize well to new data from another distribution. In addition, many natural language applications do not come with an abundance of labeled examples, and human annotation can get very expensive as the datasets get larger.\n",
    "\n",
    "This offers good motivation to explore the notion of [transfer learning](http://ruder.io/transfer-learning/index.html#whatistransferlearning) - a machine-learning technique that has the ability to transfer knowledge to novel scenarios not encountered during training. While transfer learning has been ubiquitous throughout computer vision applications since the advent of huge datasets such as ImageNet, it is only since 2017-18 that significant progress has been made for transfer learning in NLP applications. There have been a string of interesting papers in 2018 that discuss the power of language models in natural language understanding and how they can be used to provide pre-trained representations of a language's syntax, which can be far more useful when training a neural network for previously unseen tasks.\n",
    "\n",
    "Twitter data is a very interesting use case for transfer learning, mainly because the typical language syntax seen in Tweets is quite different from that which is used to train language models. For these reasons, the **2016 SemEval Stance Detection task** is chosen for studying the effectiveness of our transfer learning approach. The dataset, experiments and the evaluation criteria used are explained in below sections. \n",
    "\n",
    "The aim of this notebook is to highlight the development of a model that can help answer the following questions:\n",
    "- How does our approach generalize to Twitter-specific language syntax?\n",
    "- Are we able to achieve reasonable results (comparable to the winning team of SemEval 2016 Task 6) with *limited amounts of training data* and *limited computing resources*?\n",
    "- How much fine-tuning effort is required to achieve reasonable results?"
   ]
  },
  {
   "cell_type": "markdown",
   "metadata": {},
   "source": [
    "# 2. Approach\n",
    "This section describes the 3-Layer LSTM architecture used for transfer learning, **ULMFit**. This is the architecture described in the well known paper by [Howard and Ruder, 2018](https://arxiv.org/pdf/1801.06146.pdf), that has been proven to generalize\n",
    "well to unseen distributions. The goal is to see how *ULMFit* can perform in this particular Tweet stance classification task.\n",
    "\n",
    "\n",
    "## 2.1 ULMFit Model Architecture\n",
    "![title](assets/ulmfit_arch.png)\n",
    "\n",
    "Source: [Howard and Ruder, 2018](https://arxiv.org/pdf/1801.06146.pdf)\n",
    "\n",
    "To classify out-of-domain data (such as our Twitter data), the following techniques are applied from the ULMFit paper:\n",
    "\n",
    "### Discriminative Fine-tuning\n",
    "From the *ULMFit* paper, each layer of the model captures *different types of information*. Hence, it makes sense to fine-tune each layer differently, and this is done in *ULMFit* after extensive empirical testing and implementation updates. Rather than change each layer manually, we can use the implemented ratios, but adapt the multiplier that influences the learning rate for each layer. \n",
    "\n",
    "*ULMFit* also uses discriminative fine-tuning with regard to the SGD update as follows:\n",
    "\n",
    "$\\theta_{t}^{l} = \\theta_{t-1}^{l} - \\eta^{l} \\cdot \\nabla_{\\theta^l} J{\\theta} $\n",
    "\n",
    "### 1-cycle learning rate policy\n",
    "In the fine-tuning stage, a *1-cycle learning rate* policy is applied, which comes from this [report by Leslie Smith](https://arxiv.org/abs/1803.09820). It is a modification of the cyclical learning rate policy, which has been around for a long time, but the 1-cycle policy allows a large initial learning rate ($LR_{max}=10^{-3}$, for example), but decreases it by several orders of magnitude just at the last epoch. This seems to provide greater final accuracy. In the ULMFit implementation,  this 1-cycle policy has been tweaked and is referred to as *slanted triangular learning rate*.\n",
    "\n",
    "### Gradual unfreezing\n",
    "Rather than training all the layers at once during classification, the layers are \"frozen\" and the last layer is fine-tuned first, followed by the next layer before it, and so on. This avoids the phenomenon known as *catastrophic forgetting* (by fine-tuning all layers too aggressively). \n",
    "\n",
    "### Concatenated pooling\n",
    "Because an input text can consist of hundreds or thousands of words, information might get lost if we only consider the last hidden state.\n",
    "\n",
    "Hence, the hidden state at the last time step, $h_T$ is concatenated with *both* the max-pooled and mean-pooled representation of the hidden states over as many time steps as can fit in GPU memory.\n",
    "\n",
    "$h_C = [h_T, maxpool(H), meanpool(H)]$\n",
    "\n",
    "Where $H$ is the vector of all hidden states.\n",
    "\n",
    "### 3-stage fine-tuning methodology\n",
    "The classification task is done in a 3-stage process:\n",
    "1. General-domain LM pretraining: ULMFit has a pretrained model generated using an AWD-LSTM (as per [Merity et al., 2017]((https://arxiv.org/pdf/1708.02182.pdf))) to develop a language model called ```Wikitext-103``` and was trained of 28,595 preprocessed Wikipedia articles, totalling to 103 million words. \n",
    "2. Target task *LM* fine-tuning: Since the data for the target will likely come from a different distribution, ULMFit allows us to use the pre-trained language model anf fine-tune it (using the above techniques) to adapt to the idiosyncrasies of the target data.\n",
    "3. Target task *classifier* fine-tuning: Once we save the updated weights from the language model fine-tuning step, we can fine-tune the classifier with gradual unfreezing and the other techniques described above to perform  task-specific class prediction. \n",
    "\n",
    "Note that for this SemEval Tweet stance classification task, we only perform steps 2 and 3, and utilize the pretrained language model from the ```fastai``` database. "
   ]
  },
  {
   "cell_type": "markdown",
   "metadata": {},
   "source": [
    "# 3. Data\n",
    "\n",
    "The training and test data consist of Tweets pertaining to five distinct topics, shown in [SemEval 2016: Task 6](http://alt.qcri.org/semeval2016/task6/). We only look at Task A: \"Supervised Framework\" in this notebook. The train and test data (including the gold) are in the the ```data/``` directory provided along with this repository.\n",
    "\n",
    "The five topics for which Tweets are provided as part of the training data are given below. \n",
    "\n",
    "| Topic        \n",
    "|:------------ | \n",
    "| Atheism     |\n",
    "| Climate Change is a Real Concern  | \n",
    "| Feminist Movement | \n",
    "| Hillary Clinton  |\n",
    "| Legalization of Abortion  | \n",
    "\n",
    "A more detailed breakdown of the tweets for this shared task is provided in [this link](http://www.saifmohammad.com/WebPages/StanceDataset.htm). \n",
    "\n",
    "## Size of dataset\n",
    "The total number of Tweets (in the training set) available for this task is roughly 2700, which amounts to roughly 500-600 Tweets per topic. Thus, this can be considered a small dataset. \n",
    "\n",
    "![title](assets/stance_balance.png)\n",
    "\n",
    "Upon inspecting the training data, it is clear that there is quite a large variance in terms of the number of Tweets in favor vs. those against a topic. There is quite a large variance *within* classes as well as *between* classes in the overall data. \n",
    "\n",
    "## 3.1 Pretrained language models\n",
    "\n",
    "*ULMFit* uses its own pretrained language model ```wikitext-103``` that can be conveniently downloaded  from the ```fastai``` database hosted on AWS. \n"
   ]
  },
  {
   "cell_type": "markdown",
   "metadata": {},
   "source": [
    "## 3.2 Preprocess SemEval training data\n",
    "This section discusses the steps used to prepare the data for transfer learning utilizing the ```fastai``` framework. In particular, the ```fastai.text``` library is designed to work very well with tabular data, hence, Pandas DataFrames are used to organize and filter the data."
   ]
  },
  {
   "cell_type": "code",
   "execution_count": 2,
   "metadata": {},
   "outputs": [],
   "source": [
    "from fastai import *\n",
    "from fastai.text import *\n",
    "from pathlib import Path\n",
    "import pandas as pd\n",
    "import numpy as np\n",
    "import re"
   ]
  },
  {
   "cell_type": "markdown",
   "metadata": {},
   "source": [
    "### Define the path to train and test data for SemEval 2016 Task 6\n",
    "The full data and evaluation files for this task is available on the [source page](http://alt.qcri.org/semeval2016/task6/index.php?id=data-and-tools). However, these have been included along with this repository for future reference. "
   ]
  },
  {
   "cell_type": "code",
   "execution_count": 3,
   "metadata": {},
   "outputs": [],
   "source": [
    "path = Path('./data')\n",
    "trainfile = 'semeval2016-task6-trainingdata.txt'\n",
    "testfile = 'SemEval2016-Task6-subtaskA-testdata.txt'"
   ]
  },
  {
   "cell_type": "markdown",
   "metadata": {},
   "source": [
    "Some of the characters in the training set are not *utf-8* encoded, hence we make sure that we only treat the characters that appear in the English language for this task."
   ]
  },
  {
   "cell_type": "code",
   "execution_count": 4,
   "metadata": {},
   "outputs": [],
   "source": [
    "def clean_ascii(text):\n",
    "    # function to remove non-ASCII chars from data\n",
    "    return ''.join(i for i in text if ord(i) < 128)"
   ]
  },
  {
   "cell_type": "code",
   "execution_count": 5,
   "metadata": {},
   "outputs": [],
   "source": [
    "train_orig = pd.read_csv(path/trainfile, delimiter='\\t', header=0, encoding = \"latin-1\")"
   ]
  },
  {
   "cell_type": "code",
   "execution_count": 6,
   "metadata": {},
   "outputs": [
    {
     "name": "stdout",
     "output_type": "stream",
     "text": [
      "Cuda available\n",
      "PyTorch version:  1.0.0.dev20181203\n"
     ]
    }
   ],
   "source": [
    "# Check that the latest 1.0.0 build of PyTorch has been installed \n",
    "# alongside fastai\n",
    "import torch\n",
    "print(\"Cuda available\" if torch.cuda.is_available() is True else \"CPU\")\n",
    "print(\"PyTorch version: \", torch.__version__)"
   ]
  },
  {
   "cell_type": "code",
   "execution_count": 7,
   "metadata": {},
   "outputs": [
    {
     "data": {
      "image/png": "[encoded data removed]",
      "text/plain": [
       "<Figure size 432x288 with 1 Axes>"
      ]
     },
     "metadata": {},
     "output_type": "display_data"
    }
   ],
   "source": [
    "# Plot value counts for rach stance in the dataset\n",
    "train_orig['Stance'].value_counts().plot.bar(rot=30);"
   ]
  },
  {
   "cell_type": "code",
   "execution_count": 8,
   "metadata": {},
   "outputs": [
    {
     "name": "stdout",
     "output_type": "stream",
     "text": [
      "SemEval 2016 Task 6 (subtask A) Tweet topics are:\n",
      "\n",
      "------------------------------------------\n",
      "Atheism\n",
      "Climate Change is a Real Concern\n",
      "Feminist Movement\n",
      "Hillary Clinton\n",
      "Legalization of Abortion\n"
     ]
    }
   ],
   "source": [
    "print(\"SemEval 2016 Task 6 (subtask A) Tweet topics are:\\n\")\n",
    "print(\"------------------------------------------\")\n",
    "for item in train_orig['Target'].unique():\n",
    "    print(item)"
   ]
  },
  {
   "cell_type": "markdown",
   "metadata": {},
   "source": [
    "### Apply the cleaning function to the 'Tweet' column of the training data"
   ]
  },
  {
   "cell_type": "code",
   "execution_count": 9,
   "metadata": {},
   "outputs": [],
   "source": [
    "train_orig['Tweet'] = train_orig['Tweet'].apply(clean_ascii)"
   ]
  },
  {
   "cell_type": "code",
   "execution_count": 10,
   "metadata": {},
   "outputs": [
    {
     "data": {
      "text/html": [
       "<div>\n",
       "<style scoped>\n",
       "    .dataframe tbody tr th:only-of-type {\n",
       "        vertical-align: middle;\n",
       "    }\n",
       "\n",
       "    .dataframe tbody tr th {\n",
       "        vertical-align: top;\n",
       "    }\n",
       "\n",
       "    .dataframe thead th {\n",
       "        text-align: right;\n",
       "    }\n",
       "</style>\n",
       "<table border=\"1\" class=\"dataframe\">\n",
       "  <thead>\n",
       "    <tr style=\"text-align: right;\">\n",
       "      <th></th>\n",
       "      <th>ID</th>\n",
       "      <th>Target</th>\n",
       "      <th>Tweet</th>\n",
       "      <th>Stance</th>\n",
       "    </tr>\n",
       "  </thead>\n",
       "  <tbody>\n",
       "    <tr>\n",
       "      <th>0</th>\n",
       "      <td>101</td>\n",
       "      <td>Atheism</td>\n",
       "      <td>dear lord thank u for all of ur blessings forg...</td>\n",
       "      <td>AGAINST</td>\n",
       "    </tr>\n",
       "    <tr>\n",
       "      <th>1</th>\n",
       "      <td>102</td>\n",
       "      <td>Atheism</td>\n",
       "      <td>Blessed are the peacemakers, for they shall be...</td>\n",
       "      <td>AGAINST</td>\n",
       "    </tr>\n",
       "    <tr>\n",
       "      <th>2</th>\n",
       "      <td>103</td>\n",
       "      <td>Atheism</td>\n",
       "      <td>I am not conformed to this world. I am transfo...</td>\n",
       "      <td>AGAINST</td>\n",
       "    </tr>\n",
       "    <tr>\n",
       "      <th>3</th>\n",
       "      <td>104</td>\n",
       "      <td>Atheism</td>\n",
       "      <td>Salah should be prayed with #focus and #unders...</td>\n",
       "      <td>AGAINST</td>\n",
       "    </tr>\n",
       "    <tr>\n",
       "      <th>4</th>\n",
       "      <td>105</td>\n",
       "      <td>Atheism</td>\n",
       "      <td>And stay in your houses and do not display you...</td>\n",
       "      <td>AGAINST</td>\n",
       "    </tr>\n",
       "  </tbody>\n",
       "</table>\n",
       "</div>"
      ],
      "text/plain": [
       "    ID   Target                                              Tweet   Stance\n",
       "0  101  Atheism  dear lord thank u for all of ur blessings forg...  AGAINST\n",
       "1  102  Atheism  Blessed are the peacemakers, for they shall be...  AGAINST\n",
       "2  103  Atheism  I am not conformed to this world. I am transfo...  AGAINST\n",
       "3  104  Atheism  Salah should be prayed with #focus and #unders...  AGAINST\n",
       "4  105  Atheism  And stay in your houses and do not display you...  AGAINST"
      ]
     },
     "execution_count": 10,
     "metadata": {},
     "output_type": "execute_result"
    }
   ],
   "source": [
    "train_orig.head()"
   ]
  },
  {
   "cell_type": "markdown",
   "metadata": {},
   "source": [
    "### Store the relevant information from training data \n",
    "ULMFit requires just the stance and the text data (i.e. tweets) for the language-model finetuning and classification steps, hence these are stored in a DataFrame."
   ]
  },
  {
   "cell_type": "code",
   "execution_count": 11,
   "metadata": {},
   "outputs": [
    {
     "data": {
      "text/html": [
       "<div>\n",
       "<style scoped>\n",
       "    .dataframe tbody tr th:only-of-type {\n",
       "        vertical-align: middle;\n",
       "    }\n",
       "\n",
       "    .dataframe tbody tr th {\n",
       "        vertical-align: top;\n",
       "    }\n",
       "\n",
       "    .dataframe thead th {\n",
       "        text-align: right;\n",
       "    }\n",
       "</style>\n",
       "<table border=\"1\" class=\"dataframe\">\n",
       "  <thead>\n",
       "    <tr style=\"text-align: right;\">\n",
       "      <th></th>\n",
       "      <th>Stance</th>\n",
       "      <th>Tweet</th>\n",
       "    </tr>\n",
       "  </thead>\n",
       "  <tbody>\n",
       "    <tr>\n",
       "      <th>2809</th>\n",
       "      <td>AGAINST</td>\n",
       "      <td>There's a law protecting unborn eagles, but no...</td>\n",
       "    </tr>\n",
       "    <tr>\n",
       "      <th>2810</th>\n",
       "      <td>AGAINST</td>\n",
       "      <td>I am 1 in 3... I have had an abortion #Abortio...</td>\n",
       "    </tr>\n",
       "    <tr>\n",
       "      <th>2811</th>\n",
       "      <td>AGAINST</td>\n",
       "      <td>How dare you say my sexual preference is a cho...</td>\n",
       "    </tr>\n",
       "    <tr>\n",
       "      <th>2812</th>\n",
       "      <td>AGAINST</td>\n",
       "      <td>Equal rights for those 'born that way', no rig...</td>\n",
       "    </tr>\n",
       "    <tr>\n",
       "      <th>2813</th>\n",
       "      <td>AGAINST</td>\n",
       "      <td>#POTUS seals his legacy w/ 1/2 doz wins. The #...</td>\n",
       "    </tr>\n",
       "  </tbody>\n",
       "</table>\n",
       "</div>"
      ],
      "text/plain": [
       "       Stance                                              Tweet\n",
       "2809  AGAINST  There's a law protecting unborn eagles, but no...\n",
       "2810  AGAINST  I am 1 in 3... I have had an abortion #Abortio...\n",
       "2811  AGAINST  How dare you say my sexual preference is a cho...\n",
       "2812  AGAINST  Equal rights for those 'born that way', no rig...\n",
       "2813  AGAINST  #POTUS seals his legacy w/ 1/2 doz wins. The #..."
      ]
     },
     "execution_count": 11,
     "metadata": {},
     "output_type": "execute_result"
    }
   ],
   "source": [
    "train = pd.concat([train_orig['Stance'], train_orig['Tweet']], axis=1)\n",
    "train.tail()"
   ]
  },
  {
   "cell_type": "code",
   "execution_count": 12,
   "metadata": {},
   "outputs": [],
   "source": [
    "# Write train to csv\n",
    "train.to_csv(path/'train.csv', index=False, header=False)"
   ]
  },
  {
   "cell_type": "markdown",
   "metadata": {},
   "source": [
    "# 4. Experimental Setup\n",
    "\n",
    "Stance detection uses a *semi-supervised approach* where we reuse weights from a pretrained language model (in this case ```wikitext-103```) and perform multi-class classification on the training data over the three classes (*FAVOR*, *AGAINST* and *NONE*).\n",
    "\n",
    "### Evaluation\n",
    "The metric used to score the stance classification is **F-score**. The event organizers provide an [evaluation script](http://alt.qcri.org/semeval2016/task6/index.php?id=data-and-tools) that calculates the macro-average of F-score (FAVOR) and F-score (AGAINST) for task A. This compares our model's predicted stance for each Tweet against the gold reference.\n",
    "\n",
    "The *perl* script provided by the organizers is used to generate an F- score. The evaluation script is in ```data/eval/``` and has the following usage:\n",
    "    \n",
    "    cd data/eval\n",
    "    perl eval.pl -u\n",
    "\n",
    "    ---------------------------\n",
    "    Usage:\n",
    "    perl eval.pl goldFile guessFile\n",
    "\n",
    "    goldFile:  file containing gold standards;\n",
    "    guessFile: file containing your prediction.\n",
    "\n",
    "### Reference result\n",
    "To have a benchmark to compare our results against, it makes sense to look at the winning paper for this shared task, from team *MITRE*, who [published their methodology and approach](https://arxiv.org/pdf/1606.03784.pdf). From this paper, it can be seen that *MITRE* used an LSTM-based deep learning approach and performed per-topic classification of Tweets to achieve an average macro F-score of **0.67**. \n",
    "\n",
    "### Stance Prediction\n",
    "The predicted output stances on the test dataset is written out according to the format expected by the evaluation *perl* script, and the F-scores are published as per this evaluation."
   ]
  },
  {
   "cell_type": "markdown",
   "metadata": {},
   "source": [
    "# 5. Transfer Learning Stages\n",
    "\n",
    "This notebook utilizes the refactored and updated version (```v1```) of *ULMFit* as implemented in the [fastai](https://github.com/fastai/fastai/tree/master/fastai)  GitHub repository. This requires an install of **Pytorch 1.0.0** ([released on December 7, 2018](https://developers.facebook.com/blog/post/2018/05/02/announcing-pytorch-1.0-for-research-production/)) to run since its development intended to move alongside PyTorch's own development cycle in the future. It is recommended to run this entire notebook in a virtual environment to avoid clashes with pre-existing installs of PyTorch.\n",
    "\n",
    "The refactored code for *ULMFit* is much more high-level and abstracted than the original version that was used in the paper, so it doesn't make sense to rewrite the data manipulation code for text handling and tokenization from the ground up. We can take advantage of the powerful transfer learning functionality that is baked into ULMFit (obtained after months of fine-tuning and refactoring the source code by Fast.ai) instead! "
   ]
  },
  {
   "cell_type": "markdown",
   "metadata": {},
   "source": [
    "## 5.1 Language model finetuning: (SemEval Tweets only)\n",
    "The pre-trained language model used is from [this work by Merity et al.](https://arxiv.org/pdf/1708.02182.pdf). Although we are working with Twitter whose content's structure that can be quite dissimilar to Wikipedia's sentence formulation, the hope is that the language understanding developed by the model, in combination with the fine-tuning techniques described in [Howard and Ruder's paper](https://arxiv.org/pdf/1801.06146.pdf), will allow us to at least transfer some knowledge for the purposes of classification of Tweet stance."
   ]
  },
  {
   "cell_type": "markdown",
   "metadata": {},
   "source": [
    "### Preprocess data for language model fine-tuning\n",
    "The ```TextLMDataBunch```[ [source]](https://docs.fast.ai/text.data.html#TextLMDataBunch) class returns a \"Databunch\" type of object that is a custom object defined in fastai.text's API. Note that according to this class definition, a significant amount of data pre-processing is going on under the hood. \n",
    "\n",
    "- Initialize the language model with the pre-trained vocabulary's weights\n",
    "- Create a custom data loader that \"batchifies\" the target task's vocabulary, i.e. split it up into batches for processing on the GPU\n",
    "- Introduce randomness into the batches, but without breaking up the sentence sequences using techniques [borrowed from language modeling](https://arxiv.org/pdf/1708.02182.pdf).\n",
    "- Tokenize the target task's vocabulary and increase the efficiency of tokenization (for large tasks) using multi-threading\n",
    " "
   ]
  },
  {
   "cell_type": "code",
   "execution_count": 13,
   "metadata": {},
   "outputs": [],
   "source": [
    "# Language model data\n",
    "data_lm = TextLMDataBunch.from_csv(path, 'train.csv', min_freq=1)"
   ]
  },
  {
   "cell_type": "markdown",
   "metadata": {},
   "source": [
    "Note that in this case, we specify a minimum word frequency of 1 (i.e. words that appear just once in the data are given the tag ```<unk>``` during tokenization."
   ]
  },
  {
   "cell_type": "code",
   "execution_count": 14,
   "metadata": {},
   "outputs": [],
   "source": [
    "# Save the language and classifier model data for re-use\n",
    "data_lm.save()"
   ]
  },
  {
   "cell_type": "code",
   "execution_count": 15,
   "metadata": {},
   "outputs": [],
   "source": [
    "# # Reload LM and clas data from file if doing so for large cases\n",
    "# data_lm = TextLMDataBunch.load(path)\n",
    "# data_clas = TextClasDataBunch.load(path, bs=32)"
   ]
  },
  {
   "cell_type": "code",
   "execution_count": 16,
   "metadata": {},
   "outputs": [
    {
     "data": {
      "text/html": [
       "<table>  <col width='5%'>  <col width='95%'>  <tr>\n",
       "    <th>idx</th>\n",
       "    <th>text</th>\n",
       "  </tr>\n",
       "  <tr>\n",
       "    <th>0</th>\n",
       "    <th>xxbos xxfld 1 xxmaj if ' xxunk not human beings in the womb , how do we xxunk and xxunk their xxunk onto human beings ? # semst xxbos xxfld 1 # xxmaj tolerance ... i wonder how much more # xxmaj mother # xxmaj earth has at # methodology levels re our # xxunk # ideologies ? # semst xxbos xxfld 1 # xxmaj xxunk # heatwave continues .</th>\n",
       "  </tr>\n",
       "  <tr>\n",
       "    <th>1</th>\n",
       "    <th>it . xxmaj such an amazing xxunk . # semst xxbos xxfld 1 xxunk xxunk xxmaj hillary 's xxmaj new xxmaj campaign slogan is : xxup hillary - xxup nothing xxup to xxup hide xxup but xxup the xxup truth ! # tcot # wakeupamerica # semst xxbos xxfld 1 xxmaj hillary has lied , deleted xxmaj benghazi emails , and betrayed the trust of xxmaj americans scandal after scandal</th>\n",
       "  </tr>\n",
       "  <tr>\n",
       "    <th>2</th>\n",
       "    <th>much as boring as mine . # xxunk # semst xxbos xxfld 1 xxmaj great that @hillaryclinton xxunk # xxunk 's xxunk today ! ! # semst xxbos xxfld 1 xxmaj good xxmaj friday morning # patriots . xxmaj make it ur best one ever . # xxmaj smile all day long . # xxup xxunk # xxunk # xxup xxunk # xxup xxunk # xxunk # semst xxbos xxfld</th>\n",
       "  </tr>\n",
       "  <tr>\n",
       "    <th>3</th>\n",
       "    <th># xxmaj xxunk just raised 45 million ! # semst xxbos xxfld 1 xxmaj how can she live with herself ? # xxmaj benghazi # semst xxbos xxfld 1 xxmaj my vote is definitely for xxmaj hillary . i do n't want xxmaj bush 's dumb ass . xxmaj do n't want xxmaj trump either . # hillaryclinton # semst xxbos xxfld 1 xxmaj women are strong , women are</th>\n",
       "  </tr>\n",
       "  <tr>\n",
       "    <th>4</th>\n",
       "    <th>the right to choose to kill . # semst xxbos xxfld 1 xxunk xxunk xxunk xxunk / xxunk xxmaj xxunk face . # semst xxbos xxfld 1 xxmaj if you 're a feminist , stop whining on the internet and step up your game . xxmaj guys in xxmaj baltimore riot for their cause . xxmaj get shit done . # semst xxbos xxfld 1 xxmaj ok now how about</th>\n",
       "  </tr>\n",
       "</table>\n"
      ],
      "text/plain": [
       "<IPython.core.display.HTML object>"
      ]
     },
     "metadata": {},
     "output_type": "display_data"
    }
   ],
   "source": [
    "data_lm.show_batch()"
   ]
  },
  {
   "cell_type": "markdown",
   "metadata": {},
   "source": [
    "We only need to run the above tokenization step once, and save the data. All the data goes to a local folder named ```tmp/```. For a large added vocabulary, the above tokenization step can take a while, hence we save them and restart the notebook from the next cell (if we close our session).\n",
    "\n",
    "The tokenization technique used by ```fastai.text``` is quite advanced, and uses quite a few tricks to capture semantic meaning from the text. Unlike typical NLTK-type tokenization, here we are not converting the Tweets to lowercase and removing information from the base text - that would result in a tremendous loss of information that our model could use to gather an understanding of our new task's vocabulary.\n",
    "\n",
    "Instead, a number of added tokens are applied so that minimal information is lost. A full list of all the tokenization rules used are [here](https://docs.fast.ai/text.transform.html#Rules). \n",
    "\n",
    "As an example, the ```xxmaj``` token [[source]](https://github.com/fastai/fastai/blob/1c5c007e10a187f4a048a3ee8137016534259768/fastai/text/transform.py#L71) indicates that there is capitalization of the word, either in part or in full. \"The\" will be tokenized as \"xxmaj the\". For words that are full capitalized, such as \"I AM SHOUTING\"; it is tokenized as \"xxup i xxup am xxup shouting\". The tokenizer uses spaCy's underlying tokens, but adds tags in a very smart way that balances capturing semantic meaning while reducing the number of overall tokens, so it is both powerful and efficient. \n",
    "\n",
    "The tokenization process described above is highly efficient, in part thanks to the power of *SpaCy* and also due to the multi-threading wrappers implemented by Fast.ai on top of Spacy's tokenizer. As a result, a really large language model's vocabulary (of millions of words) can also be effectively tokenized in a reasonable time. "
   ]
  },
  {
   "cell_type": "markdown",
   "metadata": {},
   "source": [
    "### Define learner object for language model finetuning\n",
    "We define a learner object that uses the tokenized language model data, that is organized into batches for the GPU, and feed it a pre-trained language model. \n",
    "\n",
    "We use the ```wt_103_v1``` model that was refined after re-training using the more efficient ```fastai v1``` library. The data (```lstm_wt103.pth```) is downloaded through an AWS-hosted link (accessed through the ```fastai.datasets``` interface), and stored locally. All the data in the language model file is numericalized and stored in a way that the learner can efficiently pick up tokens in float form. In addition to the language model, there is also an additional pickle object ```itos_wt103.pkl``` that is similar to the ```torchtext``` definition of \"integer-to-string\" - this contains the list of unique tokens in word form, so that we can map the tokens back to strings if necessary."
   ]
  },
  {
   "cell_type": "code",
   "execution_count": 17,
   "metadata": {},
   "outputs": [],
   "source": [
    "learn = language_model_learner(data_lm, pretrained_model=URLs.WT103_1, drop_mult=0.1)"
   ]
  },
  {
   "cell_type": "markdown",
   "metadata": {},
   "source": [
    "### Print the structure of the language model RNN \n",
    "We can examine the architecture of the 3-layer LSTM used in ULMFit as shown below. For the language model fine-tuning, we define the embeddings based on the the target task vocabulary size. A single linear output layer is defined  that updates the weights once we pass the input through the network."
   ]
  },
  {
   "cell_type": "code",
   "execution_count": 18,
   "metadata": {},
   "outputs": [
    {
     "data": {
      "text/plain": [
       "[RNNCore(\n",
       "   (encoder): Embedding(2760, 400, padding_idx=1)\n",
       "   (encoder_dp): EmbeddingDropout(\n",
       "     (emb): Embedding(2760, 400, padding_idx=1)\n",
       "   )\n",
       "   (rnns): ModuleList(\n",
       "     (0): WeightDropout(\n",
       "       (module): LSTM(400, 1150)\n",
       "     )\n",
       "     (1): WeightDropout(\n",
       "       (module): LSTM(1150, 1150)\n",
       "     )\n",
       "     (2): WeightDropout(\n",
       "       (module): LSTM(1150, 400)\n",
       "     )\n",
       "   )\n",
       "   (input_dp): RNNDropout()\n",
       "   (hidden_dps): ModuleList(\n",
       "     (0): RNNDropout()\n",
       "     (1): RNNDropout()\n",
       "     (2): RNNDropout()\n",
       "   )\n",
       " ), LinearDecoder(\n",
       "   (decoder): Linear(in_features=400, out_features=2760, bias=True)\n",
       "   (output_dp): RNNDropout()\n",
       " )]"
      ]
     },
     "execution_count": 18,
     "metadata": {},
     "output_type": "execute_result"
    }
   ],
   "source": [
    "list(learn.model.children())"
   ]
  },
  {
   "cell_type": "markdown",
   "metadata": {},
   "source": [
    "### Find the optimum learning rate \n",
    "```fastai.train``` [source](https://github.com/fastai/fastai/blob/050080be574cb1260462bbd03e9600e43e7a54b1/fastai/train.py#L23) provides a convenient utility to search through a range of learning rates to find the optimum one for our dataset. \n",
    "\n",
    "The idea is that our optimization function needs to use a learning rate that is an order of magnitude below the point at which the loss starts to diverge. We can quickly find this as shown below. "
   ]
  },
  {
   "cell_type": "code",
   "execution_count": 19,
   "metadata": {},
   "outputs": [
    {
     "name": "stdout",
     "output_type": "stream",
     "text": [
      "LR Finder is complete, type {learner_name}.recorder.plot() to see the graph.\n"
     ]
    },
    {
     "data": {
      "image/png": "[encoded data removed]",
      "text/plain": [
       "<Figure size 432x288 with 1 Axes>"
      ]
     },
     "metadata": {},
     "output_type": "display_data"
    }
   ],
   "source": [
    "learn.lr_find(start_lr=1e-8, end_lr=1e2)\n",
    "learn.recorder.plot()"
   ]
  },
  {
   "cell_type": "markdown",
   "metadata": {},
   "source": [
    "### Run the ```language_model_learner``` class\n",
    "The pre-trained language model quickly downloads from the ```fastai```'s AWS link, so there is no need to download it separately. [```drop_mult```] is the multiplier applied to the dropout in the language learner. As per the ULMFit paper, we use a custom dropout for each language model layer, and the ```drop_mult```just scales a [numpy array of these dropouts](https://github.com/fastai/fastai/blob/1c5c007e10a187f4a048a3ee8137016534259768/fastai/text/learner.py#L15) which remain in the same relative ratio to one another. These numbers have been obtained through empirical tuning for a range of language tasks, and we took note of this during our extensive reading on this task."
   ]
  },
  {
   "cell_type": "code",
   "execution_count": 20,
   "metadata": {},
   "outputs": [
    {
     "data": {
      "text/html": [
       "Total time: 00:01 <p><table style='width:300px; margin-bottom:10px'>\n",
       "  <tr>\n",
       "    <th>epoch</th>\n",
       "    <th>train_loss</th>\n",
       "    <th>valid_loss</th>\n",
       "    <th>accuracy</th>\n",
       "  </tr>\n",
       "  <tr>\n",
       "    <th>1</th>\n",
       "    <th>6.777056</th>\n",
       "    <th>5.760276</th>\n",
       "    <th>0.184697</th>\n",
       "  </tr>\n",
       "  <tr>\n",
       "\n",
       "  </tr>\n",
       "</table>\n"
      ],
      "text/plain": [
       "<IPython.core.display.HTML object>"
      ]
     },
     "metadata": {},
     "output_type": "display_data"
    }
   ],
   "source": [
    "learn = language_model_learner(data_lm, pretrained_model=URLs.WT103_1, \n",
    "                               drop_mult=0.5)\n",
    "learn.fit_one_cycle(cyc_len=1, max_lr=1e-3, moms=(0.8, 0.7))"
   ]
  },
  {
   "cell_type": "markdown",
   "metadata": {},
   "source": [
    "### Unfreeze the entire model \n",
    "To train the language model during fine-tuning, we unfreeze all the layers and then perform training for a reasonable time until we obtain a low enough validation loss. For a larger target vocabulary, these hyperparameters might need to be modified, and teh training time would be significantly longer, but for this SemEval task, we have a very small additional vocabulary to fine-tune the language model on, so it is really quick.\n"
   ]
  },
  {
   "cell_type": "code",
   "execution_count": 21,
   "metadata": {},
   "outputs": [
    {
     "data": {
      "text/html": [
       "Total time: 00:31 <p><table style='width:300px; margin-bottom:10px'>\n",
       "  <tr>\n",
       "    <th>epoch</th>\n",
       "    <th>train_loss</th>\n",
       "    <th>valid_loss</th>\n",
       "    <th>accuracy</th>\n",
       "  </tr>\n",
       "  <tr>\n",
       "    <th>1</th>\n",
       "    <th>6.387111</th>\n",
       "    <th>5.049564</th>\n",
       "    <th>0.213630</th>\n",
       "  </tr>\n",
       "  <tr>\n",
       "    <th>2</th>\n",
       "    <th>5.968547</th>\n",
       "    <th>4.324110</th>\n",
       "    <th>0.293626</th>\n",
       "  </tr>\n",
       "  <tr>\n",
       "    <th>3</th>\n",
       "    <th>5.577562</th>\n",
       "    <th>4.065256</th>\n",
       "    <th>0.318037</th>\n",
       "  </tr>\n",
       "  <tr>\n",
       "    <th>4</th>\n",
       "    <th>5.292692</th>\n",
       "    <th>3.894169</th>\n",
       "    <th>0.334843</th>\n",
       "  </tr>\n",
       "  <tr>\n",
       "    <th>5</th>\n",
       "    <th>5.035873</th>\n",
       "    <th>3.689974</th>\n",
       "    <th>0.332790</th>\n",
       "  </tr>\n",
       "  <tr>\n",
       "    <th>6</th>\n",
       "    <th>4.764125</th>\n",
       "    <th>3.326344</th>\n",
       "    <th>0.374279</th>\n",
       "  </tr>\n",
       "  <tr>\n",
       "    <th>7</th>\n",
       "    <th>4.451447</th>\n",
       "    <th>3.148137</th>\n",
       "    <th>0.390625</th>\n",
       "  </tr>\n",
       "  <tr>\n",
       "    <th>8</th>\n",
       "    <th>4.185637</th>\n",
       "    <th>3.142953</th>\n",
       "    <th>0.393342</th>\n",
       "  </tr>\n",
       "  <tr>\n",
       "    <th>9</th>\n",
       "    <th>3.969743</th>\n",
       "    <th>3.105297</th>\n",
       "    <th>0.398438</th>\n",
       "  </tr>\n",
       "  <tr>\n",
       "    <th>10</th>\n",
       "    <th>3.790563</th>\n",
       "    <th>3.118295</th>\n",
       "    <th>0.395987</th>\n",
       "  </tr>\n",
       "  <tr>\n",
       "    <th>11</th>\n",
       "    <th>3.629449</th>\n",
       "    <th>3.101075</th>\n",
       "    <th>0.399016</th>\n",
       "  </tr>\n",
       "  <tr>\n",
       "    <th>12</th>\n",
       "    <th>3.488647</th>\n",
       "    <th>3.109549</th>\n",
       "    <th>0.398317</th>\n",
       "  </tr>\n",
       "  <tr>\n",
       "    <th>13</th>\n",
       "    <th>3.365237</th>\n",
       "    <th>3.113755</th>\n",
       "    <th>0.400229</th>\n",
       "  </tr>\n",
       "  <tr>\n",
       "    <th>14</th>\n",
       "    <th>3.258392</th>\n",
       "    <th>3.125626</th>\n",
       "    <th>0.399956</th>\n",
       "  </tr>\n",
       "  <tr>\n",
       "    <th>15</th>\n",
       "    <th>3.173512</th>\n",
       "    <th>3.125749</th>\n",
       "    <th>0.395706</th>\n",
       "  </tr>\n",
       "  <tr>\n",
       "    <th>16</th>\n",
       "    <th>3.098583</th>\n",
       "    <th>3.135684</th>\n",
       "    <th>0.400078</th>\n",
       "  </tr>\n",
       "  <tr>\n",
       "    <th>17</th>\n",
       "    <th>3.037213</th>\n",
       "    <th>3.127744</th>\n",
       "    <th>0.399381</th>\n",
       "  </tr>\n",
       "  <tr>\n",
       "    <th>18</th>\n",
       "    <th>2.980722</th>\n",
       "    <th>3.129555</th>\n",
       "    <th>0.398513</th>\n",
       "  </tr>\n",
       "  <tr>\n",
       "    <th>19</th>\n",
       "    <th>2.940534</th>\n",
       "    <th>3.132044</th>\n",
       "    <th>0.398257</th>\n",
       "  </tr>\n",
       "  <tr>\n",
       "    <th>20</th>\n",
       "    <th>2.901994</th>\n",
       "    <th>3.139766</th>\n",
       "    <th>0.398245</th>\n",
       "  </tr>\n",
       "  <tr>\n",
       "\n",
       "  </tr>\n",
       "</table>\n"
      ],
      "text/plain": [
       "<IPython.core.display.HTML object>"
      ]
     },
     "metadata": {},
     "output_type": "display_data"
    }
   ],
   "source": [
    "learn.unfreeze()\n",
    "learn.fit_one_cycle(cyc_len=20, max_lr=1e-3, moms=(0.8, 0.7))"
   ]
  },
  {
   "cell_type": "code",
   "execution_count": 22,
   "metadata": {},
   "outputs": [],
   "source": [
    "# Save the fine-tuned encoder\n",
    "learn.save_encoder('ft_enc')"
   ]
  },
  {
   "cell_type": "markdown",
   "metadata": {},
   "source": [
    "## 5.2 Train the Classifier: SemEval Tweets only"
   ]
  },
  {
   "cell_type": "markdown",
   "metadata": {},
   "source": [
    "For classification, the [winning paper for the SemEval 2016](https://www.aclweb.org/anthology/S/S16/S16-1074.pdf) task (team MITRE) describe in section $5$ of their paper that they achieved their highest average F1 score when they trained 5 *distinct* classifiers, i.e. a separate training task for each of the 5 topics in the training data. \n",
    "\n",
    "Hence, in this notebook we only perform classification for one *topic* at a time. Evaluation of the predicted classes is also done on a per-topic basis. "
   ]
  },
  {
   "cell_type": "markdown",
   "metadata": {},
   "source": [
    "### Identify the 5 topics in our training data"
   ]
  },
  {
   "cell_type": "code",
   "execution_count": 23,
   "metadata": {},
   "outputs": [
    {
     "name": "stdout",
     "output_type": "stream",
     "text": [
      "Atheism\n",
      "Climate Change is a Real Concern\n",
      "Feminist Movement\n",
      "Hillary Clinton\n",
      "Legalization of Abortion\n"
     ]
    }
   ],
   "source": [
    "for item in train_orig.Target.unique():\n",
    "    print(item)"
   ]
  },
  {
   "cell_type": "markdown",
   "metadata": {},
   "source": [
    "### Specify the topic we want to classify for\n",
    "We specify the topic name exactly as the training data does, and use it to subset the Pandas DataFrame."
   ]
  },
  {
   "cell_type": "code",
   "execution_count": 24,
   "metadata": {},
   "outputs": [],
   "source": [
    "topic = \"Feminist Movement\""
   ]
  },
  {
   "cell_type": "code",
   "execution_count": 25,
   "metadata": {},
   "outputs": [],
   "source": [
    "# Get only those tweets that pertain to a single topic in the training data\n",
    "train_topic = train.loc[train_orig['Target'] == topic]"
   ]
  },
  {
   "cell_type": "code",
   "execution_count": 26,
   "metadata": {},
   "outputs": [],
   "source": [
    "# Write train to csv\n",
    "train_topic.to_csv(path/'train_topic.csv', index=False, header=False)"
   ]
  },
  {
   "cell_type": "markdown",
   "metadata": {},
   "source": [
    "### Create classification dataloader\n",
    "For classification, the ```TextClasDataBunch```  [[source](https://docs.fast.ai/text.data.html#TextClasDataBunch)] dataloader used is slightly different. Just like the language model custom data loader described in the previous section, it does a lot under the hood. The classification data loader tokenizes the training data, but batchifies the data differently from the language model data loader - for classification, we perform sorting so as to group all large sentences together, and smaller sentences together - and pad them to have all batches of roughly the same length, followed by randomizing these batches so that we don't introduce additional bias during training.\n",
    "\n",
    "Just like before, we define the learner object used for classification. Note that we feed in the entire vocabulary of the training data to the classifier. We once more specify a minimum word frequency of 1 (i.e. words that appear just once in the data are given the tag ```<unk>```."
   ]
  },
  {
   "cell_type": "code",
   "execution_count": 27,
   "metadata": {},
   "outputs": [],
   "source": [
    "# Classifier model data\n",
    "data_clas = TextClasDataBunch.from_csv(path, 'train_topic.csv', vocab=data_lm.train_ds.vocab,\n",
    "                                       min_freq=1, bs=32)\n",
    "data_clas.save()"
   ]
  },
  {
   "cell_type": "code",
   "execution_count": 28,
   "metadata": {},
   "outputs": [],
   "source": [
    "learn = text_classifier_learner(data_clas, drop_mult=0.5)\n",
    "learn.load_encoder('ft_enc')\n",
    "learn.freeze()"
   ]
  },
  {
   "cell_type": "markdown",
   "metadata": {},
   "source": [
    "Note that we begin the training with all the outer layers as frozen. The fine-tuned language model is read in, and we use a dropout multiplier as shown above. \n",
    "\n",
    "For training the classifier, we apply \"gradual unfreezing\", to avoid \"catastrophic forgetting\" as explained in section $3.3$ of [Howard and Ruder's paper](https://arxiv.org/pdf/1801.06146.pdf). In addition to gradual unfreezing, "
   ]
  },
  {
   "cell_type": "markdown",
   "metadata": {},
   "source": [
    "### Just as before, find optimum learning rate for the classifier"
   ]
  },
  {
   "cell_type": "code",
   "execution_count": 29,
   "metadata": {},
   "outputs": [
    {
     "name": "stdout",
     "output_type": "stream",
     "text": [
      "LR Finder is complete, type {learner_name}.recorder.plot() to see the graph.\n"
     ]
    },
    {
     "data": {
      "image/png": "[encoded data removed]",
      "text/plain": [
       "<Figure size 432x288 with 1 Axes>"
      ]
     },
     "metadata": {},
     "output_type": "display_data"
    }
   ],
   "source": [
    "learn.lr_find(start_lr=1e-8, end_lr=1e2)\n",
    "learn.recorder.plot()"
   ]
  },
  {
   "cell_type": "markdown",
   "metadata": {},
   "source": [
    "### Carefully train the classifier\n",
    "During classification, we gradually unfreeze layers as shown below. This helps us obtain a better classification accuracy than if we were to aggressively train all the layers at once. "
   ]
  },
  {
   "cell_type": "code",
   "execution_count": 30,
   "metadata": {},
   "outputs": [
    {
     "data": {
      "text/html": [
       "Total time: 00:00 <p><table style='width:300px; margin-bottom:10px'>\n",
       "  <tr>\n",
       "    <th>epoch</th>\n",
       "    <th>train_loss</th>\n",
       "    <th>valid_loss</th>\n",
       "    <th>accuracy</th>\n",
       "  </tr>\n",
       "  <tr>\n",
       "    <th>1</th>\n",
       "    <th>1.124041</th>\n",
       "    <th>1.034543</th>\n",
       "    <th>0.511278</th>\n",
       "  </tr>\n",
       "  <tr>\n",
       "\n",
       "  </tr>\n",
       "</table>\n"
      ],
      "text/plain": [
       "<IPython.core.display.HTML object>"
      ]
     },
     "metadata": {},
     "output_type": "display_data"
    }
   ],
   "source": [
    "learn.fit_one_cycle(cyc_len=1, max_lr=1e-3, moms=(0.8, 0.7))"
   ]
  },
  {
   "cell_type": "code",
   "execution_count": 31,
   "metadata": {},
   "outputs": [
    {
     "data": {
      "text/html": [
       "Total time: 00:00 <p><table style='width:300px; margin-bottom:10px'>\n",
       "  <tr>\n",
       "    <th>epoch</th>\n",
       "    <th>train_loss</th>\n",
       "    <th>valid_loss</th>\n",
       "    <th>accuracy</th>\n",
       "  </tr>\n",
       "  <tr>\n",
       "    <th>1</th>\n",
       "    <th>1.031176</th>\n",
       "    <th>1.056985</th>\n",
       "    <th>0.488722</th>\n",
       "  </tr>\n",
       "  <tr>\n",
       "\n",
       "  </tr>\n",
       "</table>\n"
      ],
      "text/plain": [
       "<IPython.core.display.HTML object>"
      ]
     },
     "metadata": {},
     "output_type": "display_data"
    }
   ],
   "source": [
    "learn.freeze_to(-2)\n",
    "learn.fit_one_cycle(1, slice(1e-4,1e-2), moms=(0.8,0.7))"
   ]
  },
  {
   "cell_type": "code",
   "execution_count": 32,
   "metadata": {},
   "outputs": [
    {
     "data": {
      "text/html": [
       "Total time: 00:00 <p><table style='width:300px; margin-bottom:10px'>\n",
       "  <tr>\n",
       "    <th>epoch</th>\n",
       "    <th>train_loss</th>\n",
       "    <th>valid_loss</th>\n",
       "    <th>accuracy</th>\n",
       "  </tr>\n",
       "  <tr>\n",
       "    <th>1</th>\n",
       "    <th>0.951832</th>\n",
       "    <th>1.075786</th>\n",
       "    <th>0.473684</th>\n",
       "  </tr>\n",
       "  <tr>\n",
       "\n",
       "  </tr>\n",
       "</table>\n"
      ],
      "text/plain": [
       "<IPython.core.display.HTML object>"
      ]
     },
     "metadata": {},
     "output_type": "display_data"
    }
   ],
   "source": [
    "learn.freeze_to(-3)\n",
    "learn.fit_one_cycle(1, slice(1e-5,5e-3), moms=(0.8,0.7))"
   ]
  },
  {
   "cell_type": "code",
   "execution_count": 33,
   "metadata": {},
   "outputs": [
    {
     "data": {
      "text/html": [
       "Total time: 00:04 <p><table style='width:300px; margin-bottom:10px'>\n",
       "  <tr>\n",
       "    <th>epoch</th>\n",
       "    <th>train_loss</th>\n",
       "    <th>valid_loss</th>\n",
       "    <th>accuracy</th>\n",
       "  </tr>\n",
       "  <tr>\n",
       "    <th>1</th>\n",
       "    <th>0.888372</th>\n",
       "    <th>1.051242</th>\n",
       "    <th>0.413534</th>\n",
       "  </tr>\n",
       "  <tr>\n",
       "    <th>2</th>\n",
       "    <th>0.859089</th>\n",
       "    <th>1.085068</th>\n",
       "    <th>0.451128</th>\n",
       "  </tr>\n",
       "  <tr>\n",
       "    <th>3</th>\n",
       "    <th>0.853765</th>\n",
       "    <th>1.041656</th>\n",
       "    <th>0.436090</th>\n",
       "  </tr>\n",
       "  <tr>\n",
       "    <th>4</th>\n",
       "    <th>0.808356</th>\n",
       "    <th>1.068729</th>\n",
       "    <th>0.406015</th>\n",
       "  </tr>\n",
       "  <tr>\n",
       "\n",
       "  </tr>\n",
       "</table>\n"
      ],
      "text/plain": [
       "<IPython.core.display.HTML object>"
      ]
     },
     "metadata": {},
     "output_type": "display_data"
    }
   ],
   "source": [
    "learn.unfreeze()\n",
    "learn.fit_one_cycle(4, slice(1e-5,1e-3), moms=(0.8,0.7))"
   ]
  },
  {
   "cell_type": "markdown",
   "metadata": {},
   "source": [
    "### Cross-tabulate the predictions for each class\n",
    "The below table shows the predicted classes for the topic in concern. The actual evaluation of the F1 score of the classification result is done at a later step."
   ]
  },
  {
   "cell_type": "code",
   "execution_count": 34,
   "metadata": {},
   "outputs": [
    {
     "data": {
      "text/html": [
       "<div>\n",
       "<style scoped>\n",
       "    .dataframe tbody tr th:only-of-type {\n",
       "        vertical-align: middle;\n",
       "    }\n",
       "\n",
       "    .dataframe tbody tr th {\n",
       "        vertical-align: top;\n",
       "    }\n",
       "\n",
       "    .dataframe thead th {\n",
       "        text-align: right;\n",
       "    }\n",
       "</style>\n",
       "<table border=\"1\" class=\"dataframe\">\n",
       "  <thead>\n",
       "    <tr style=\"text-align: right;\">\n",
       "      <th>col_0</th>\n",
       "      <th>0</th>\n",
       "      <th>1</th>\n",
       "      <th>2</th>\n",
       "    </tr>\n",
       "    <tr>\n",
       "      <th>row_0</th>\n",
       "      <th></th>\n",
       "      <th></th>\n",
       "      <th></th>\n",
       "    </tr>\n",
       "  </thead>\n",
       "  <tbody>\n",
       "    <tr>\n",
       "      <th>0</th>\n",
       "      <td>30</td>\n",
       "      <td>45</td>\n",
       "      <td>23</td>\n",
       "    </tr>\n",
       "    <tr>\n",
       "      <th>1</th>\n",
       "      <td>6</td>\n",
       "      <td>18</td>\n",
       "      <td>1</td>\n",
       "    </tr>\n",
       "    <tr>\n",
       "      <th>2</th>\n",
       "      <td>0</td>\n",
       "      <td>4</td>\n",
       "      <td>6</td>\n",
       "    </tr>\n",
       "  </tbody>\n",
       "</table>\n",
       "</div>"
      ],
      "text/plain": [
       "col_0   0   1   2\n",
       "row_0            \n",
       "0      30  45  23\n",
       "1       6  18   1\n",
       "2       0   4   6"
      ]
     },
     "execution_count": 34,
     "metadata": {},
     "output_type": "execute_result"
    }
   ],
   "source": [
    "# get predictions\n",
    "preds, targets = learn.get_preds()\n",
    "predictions = np.argmax(preds, axis=1)\n",
    "pd.crosstab(predictions, targets)"
   ]
  },
  {
   "cell_type": "markdown",
   "metadata": {},
   "source": [
    "## Evaluate the predicted results from the classifier (SemEval tweets only)\n",
    "We read in the test dataset and store in a Pandas DataFrame as shown."
   ]
  },
  {
   "cell_type": "code",
   "execution_count": 35,
   "metadata": {},
   "outputs": [
    {
     "data": {
      "text/html": [
       "<div>\n",
       "<style scoped>\n",
       "    .dataframe tbody tr th:only-of-type {\n",
       "        vertical-align: middle;\n",
       "    }\n",
       "\n",
       "    .dataframe tbody tr th {\n",
       "        vertical-align: top;\n",
       "    }\n",
       "\n",
       "    .dataframe thead th {\n",
       "        text-align: right;\n",
       "    }\n",
       "</style>\n",
       "<table border=\"1\" class=\"dataframe\">\n",
       "  <thead>\n",
       "    <tr style=\"text-align: right;\">\n",
       "      <th></th>\n",
       "      <th>Target</th>\n",
       "      <th>Tweet</th>\n",
       "      <th>Stance</th>\n",
       "    </tr>\n",
       "  </thead>\n",
       "  <tbody>\n",
       "    <tr>\n",
       "      <th>0</th>\n",
       "      <td>Atheism</td>\n",
       "      <td>He who exalts himself shall      be humbled; a...</td>\n",
       "      <td>UNKNOWN</td>\n",
       "    </tr>\n",
       "    <tr>\n",
       "      <th>1</th>\n",
       "      <td>Atheism</td>\n",
       "      <td>RT @prayerbullets: I remove Nehushtan -previou...</td>\n",
       "      <td>UNKNOWN</td>\n",
       "    </tr>\n",
       "    <tr>\n",
       "      <th>2</th>\n",
       "      <td>Atheism</td>\n",
       "      <td>@Brainman365 @heidtjj @BenjaminLives I have so...</td>\n",
       "      <td>UNKNOWN</td>\n",
       "    </tr>\n",
       "    <tr>\n",
       "      <th>3</th>\n",
       "      <td>Atheism</td>\n",
       "      <td>#God is utterly powerless without Human interv...</td>\n",
       "      <td>UNKNOWN</td>\n",
       "    </tr>\n",
       "    <tr>\n",
       "      <th>4</th>\n",
       "      <td>Atheism</td>\n",
       "      <td>@David_Cameron   Miracles of #Multiculturalism...</td>\n",
       "      <td>UNKNOWN</td>\n",
       "    </tr>\n",
       "  </tbody>\n",
       "</table>\n",
       "</div>"
      ],
      "text/plain": [
       "    Target                                              Tweet   Stance\n",
       "0  Atheism  He who exalts himself shall      be humbled; a...  UNKNOWN\n",
       "1  Atheism  RT @prayerbullets: I remove Nehushtan -previou...  UNKNOWN\n",
       "2  Atheism  @Brainman365 @heidtjj @BenjaminLives I have so...  UNKNOWN\n",
       "3  Atheism  #God is utterly powerless without Human interv...  UNKNOWN\n",
       "4  Atheism  @David_Cameron   Miracles of #Multiculturalism...  UNKNOWN"
      ]
     },
     "execution_count": 35,
     "metadata": {},
     "output_type": "execute_result"
    }
   ],
   "source": [
    "test = pd.read_csv(path/testfile, delimiter='\\t', header=0, encoding = \"latin-1\")\n",
    "test = test.drop(['ID'], axis=1)\n",
    "# test['Tweet'] = test['Tweet'].apply(clean_ascii)\n",
    "test.head()"
   ]
  },
  {
   "cell_type": "markdown",
   "metadata": {},
   "source": [
    "Since we do not yet know the stance for the test set, it is marked as \"UNKNOWN\". "
   ]
  },
  {
   "cell_type": "markdown",
   "metadata": {},
   "source": [
    "### Filter the test data set based on topic we are classifying for"
   ]
  },
  {
   "cell_type": "code",
   "execution_count": 36,
   "metadata": {},
   "outputs": [
    {
     "data": {
      "text/html": [
       "<div>\n",
       "<style scoped>\n",
       "    .dataframe tbody tr th:only-of-type {\n",
       "        vertical-align: middle;\n",
       "    }\n",
       "\n",
       "    .dataframe tbody tr th {\n",
       "        vertical-align: top;\n",
       "    }\n",
       "\n",
       "    .dataframe thead th {\n",
       "        text-align: right;\n",
       "    }\n",
       "</style>\n",
       "<table border=\"1\" class=\"dataframe\">\n",
       "  <thead>\n",
       "    <tr style=\"text-align: right;\">\n",
       "      <th></th>\n",
       "      <th>Target</th>\n",
       "      <th>Tweet</th>\n",
       "    </tr>\n",
       "  </thead>\n",
       "  <tbody>\n",
       "    <tr>\n",
       "      <th>669</th>\n",
       "      <td>Feminist Movement</td>\n",
       "      <td>@Maisie_Williams is our hero with her #LikeAGi...</td>\n",
       "    </tr>\n",
       "    <tr>\n",
       "      <th>670</th>\n",
       "      <td>Feminist Movement</td>\n",
       "      <td>Rather be an \"ugly\" feminist then be these sad...</td>\n",
       "    </tr>\n",
       "    <tr>\n",
       "      <th>671</th>\n",
       "      <td>Feminist Movement</td>\n",
       "      <td>iamNovaah: RT ChrzOC: Bitches be running wild....</td>\n",
       "    </tr>\n",
       "    <tr>\n",
       "      <th>672</th>\n",
       "      <td>Feminist Movement</td>\n",
       "      <td>@angerelle you disagree that people should str...</td>\n",
       "    </tr>\n",
       "    <tr>\n",
       "      <th>673</th>\n",
       "      <td>Feminist Movement</td>\n",
       "      <td>#Rapeculture is basically a FABLE. It has almo...</td>\n",
       "    </tr>\n",
       "  </tbody>\n",
       "</table>\n",
       "</div>"
      ],
      "text/plain": [
       "                Target                                              Tweet\n",
       "669  Feminist Movement  @Maisie_Williams is our hero with her #LikeAGi...\n",
       "670  Feminist Movement  Rather be an \"ugly\" feminist then be these sad...\n",
       "671  Feminist Movement  iamNovaah: RT ChrzOC: Bitches be running wild....\n",
       "672  Feminist Movement  @angerelle you disagree that people should str...\n",
       "673  Feminist Movement  #Rapeculture is basically a FABLE. It has almo..."
      ]
     },
     "execution_count": 36,
     "metadata": {},
     "output_type": "execute_result"
    }
   ],
   "source": [
    "test_pred = test[['Target', 'Tweet']]\n",
    "test_pred = test_pred.loc[test_pred['Target'] == topic]\n",
    "test_pred.tail()"
   ]
  },
  {
   "cell_type": "markdown",
   "metadata": {},
   "source": [
    "### Apply the learner's ```predict``` method to produce our prediction"
   ]
  },
  {
   "cell_type": "code",
   "execution_count": 37,
   "metadata": {},
   "outputs": [],
   "source": [
    "test_pred['Stance'] = test_pred['Tweet'].apply(lambda row: str(learn.predict(row)[0]))"
   ]
  },
  {
   "cell_type": "code",
   "execution_count": 38,
   "metadata": {},
   "outputs": [
    {
     "data": {
      "text/html": [
       "<div>\n",
       "<style scoped>\n",
       "    .dataframe tbody tr th:only-of-type {\n",
       "        vertical-align: middle;\n",
       "    }\n",
       "\n",
       "    .dataframe tbody tr th {\n",
       "        vertical-align: top;\n",
       "    }\n",
       "\n",
       "    .dataframe thead th {\n",
       "        text-align: right;\n",
       "    }\n",
       "</style>\n",
       "<table border=\"1\" class=\"dataframe\">\n",
       "  <thead>\n",
       "    <tr style=\"text-align: right;\">\n",
       "      <th></th>\n",
       "      <th>Target</th>\n",
       "      <th>Tweet</th>\n",
       "      <th>Stance</th>\n",
       "    </tr>\n",
       "  </thead>\n",
       "  <tbody>\n",
       "    <tr>\n",
       "      <th>669</th>\n",
       "      <td>Feminist Movement</td>\n",
       "      <td>@Maisie_Williams is our hero with her #LikeAGi...</td>\n",
       "      <td>FAVOR</td>\n",
       "    </tr>\n",
       "    <tr>\n",
       "      <th>670</th>\n",
       "      <td>Feminist Movement</td>\n",
       "      <td>Rather be an \"ugly\" feminist then be these sad...</td>\n",
       "      <td>FAVOR</td>\n",
       "    </tr>\n",
       "    <tr>\n",
       "      <th>671</th>\n",
       "      <td>Feminist Movement</td>\n",
       "      <td>iamNovaah: RT ChrzOC: Bitches be running wild....</td>\n",
       "      <td>AGAINST</td>\n",
       "    </tr>\n",
       "    <tr>\n",
       "      <th>672</th>\n",
       "      <td>Feminist Movement</td>\n",
       "      <td>@angerelle you disagree that people should str...</td>\n",
       "      <td>AGAINST</td>\n",
       "    </tr>\n",
       "    <tr>\n",
       "      <th>673</th>\n",
       "      <td>Feminist Movement</td>\n",
       "      <td>#Rapeculture is basically a FABLE. It has almo...</td>\n",
       "      <td>AGAINST</td>\n",
       "    </tr>\n",
       "  </tbody>\n",
       "</table>\n",
       "</div>"
      ],
      "text/plain": [
       "                Target                                              Tweet  \\\n",
       "669  Feminist Movement  @Maisie_Williams is our hero with her #LikeAGi...   \n",
       "670  Feminist Movement  Rather be an \"ugly\" feminist then be these sad...   \n",
       "671  Feminist Movement  iamNovaah: RT ChrzOC: Bitches be running wild....   \n",
       "672  Feminist Movement  @angerelle you disagree that people should str...   \n",
       "673  Feminist Movement  #Rapeculture is basically a FABLE. It has almo...   \n",
       "\n",
       "      Stance  \n",
       "669    FAVOR  \n",
       "670    FAVOR  \n",
       "671  AGAINST  \n",
       "672  AGAINST  \n",
       "673  AGAINST  "
      ]
     },
     "execution_count": 38,
     "metadata": {},
     "output_type": "execute_result"
    }
   ],
   "source": [
    "test_pred.tail()"
   ]
  },
  {
   "cell_type": "markdown",
   "metadata": {},
   "source": [
    "### Output the predicted dataset to a text file for comparison with the gold reference"
   ]
  },
  {
   "cell_type": "code",
   "execution_count": 39,
   "metadata": {},
   "outputs": [],
   "source": [
    "test_pred.to_csv(path/'eval'/'predicted.txt', sep='\\t', index=True,\n",
    "                 header=['Target', 'Tweet', 'Stance'], index_label='ID')"
   ]
  },
  {
   "cell_type": "markdown",
   "metadata": {},
   "source": [
    "Once we have the predicted data, we use the *perl* script provided by the SemEval organizers to generate the F1 score. \n",
    "\n",
    "The evaluation script is in ```data/eval/``` and has the following usage:\n",
    "\n",
    "    perl eval.py gold_feminism.txt predicted.txt\n",
    "    \n",
    "    ============\n",
    "    Results\t\t\t\t \n",
    "    ============\n",
    "    FAVOR     precision: 0.3265 recall: 0.5517 f-score: 0.4103\n",
    "    AGAINST   precision: 0.7259 recall: 0.5355 f-score: 0.6164\n",
    "    ------------\n",
    "    Macro F: 0.5133"
   ]
  },
  {
   "cell_type": "markdown",
   "metadata": {},
   "source": [
    "Using a relatively small input vocabulary from the Twitter training data, we do not do that well in the F-score for the \"Feminist Movement\" topic.  On trying out a similar approach for Tweets from the other topics (Atheism, Hillary Clinton, etc.), we still do not see an F-score of above 0.60 - this is well below the winning score by *MITRE* of 0.67.\n",
    "\n",
    "To improve the score, some more fine-tuning is needed."
   ]
  },
  {
   "cell_type": "markdown",
   "metadata": {},
   "source": [
    "## 5.3 Train the Classifier: Augmented Vocabulary\n",
    "Since the initial approach (despite multiple attempts at fine-tuning both the language model and the classifier) did not an F-score as high as *MITRE's* (which was ~0.67), it can be reasoned that this could be because the pre-trained language model did not generalize to Tweets specifically (since the language syntax of tweets are quite different than the Wikipedia text that the LSTMs were trained on). \n",
    "\n",
    "The provided training data of 2,800 Tweets can be augmented with the Kaggle [Twitter Sentiment140 dataset](https://www.kaggle.com/kazanova/sentiment140) of 1.6 million tweets. By fine-tuning the language model on this larger Twitter dataset, we might better learn the structure of Twitter conversations. \n",
    "\n",
    "**NOTE**: Since 1.6 million tweets is quite a large dataset and can add a significant number of unique, one-time-only words, in this notebook, we only sampled a subset of 200,000 from the original Sentiment140 dataset for the language model fine-tuning to save on language model fine-tuning time. It is possible that fine-tuning the language model with a larger subset of the augmentation vocabulary could further improve the language model fine-tuned results. "
   ]
  },
  {
   "cell_type": "code",
   "execution_count": 57,
   "metadata": {
    "scrolled": false
   },
   "outputs": [],
   "source": [
    "# Load Kaggle Twitter Dataset\n",
    "kaggle = pd.read_csv(path/\"training.1600000.processed.noemoticon.csv\",header=None,encoding = \"latin-1\")\n",
    "kaggle.columns = ['col1', 'col2',\"col3\",\"Stance\",\"col5\",\"Tweet\"]\n",
    "kaggle = kaggle[['Stance','Tweet']]\n",
    "# Clean Data and Remove URL's from the tweets\n",
    "kaggle['Tweet'] = kaggle['Tweet'].apply(clean_ascii)\n",
    "kaggle['Tweet'] = kaggle['Tweet'].replace(r'http\\S+', '', regex=True).replace(r'www\\S+', '', regex=True)\n",
    "kaggle_sub = kaggle.sample(n=200000,random_state=77)\n",
    "kaggle_sub = kaggle_sub.append(train, ignore_index=True)"
   ]
  },
  {
   "cell_type": "code",
   "execution_count": null,
   "metadata": {
    "scrolled": true
   },
   "outputs": [],
   "source": [
    "# The Lines are commented out as this takes a long time to run\n",
    "# Write train to csv\n",
    "kaggle_sub.to_csv(path/'kaggle_train_sub_v2.csv', index=False, header=False)\n",
    "twitter_lm = TextLMDataBunch.from_csv(path, 'kaggle_train_sub_v2.csv', min_freq=1)\n",
    "kaggle_lm.save()\n",
    "twitter_lm.show_batch()"
   ]
  },
  {
   "cell_type": "code",
   "execution_count": null,
   "metadata": {
    "scrolled": false
   },
   "outputs": [],
   "source": [
    "learn_twitter = language_model_learner(twitter_lm, pretrained_model=URLs.WT103_1, drop_mult=0.1)\n",
    "learn_twitter.lr_find(start_lr=1e-8, end_lr=1e2)\n",
    "learn_twitter.recorder.plot()"
   ]
  },
  {
   "cell_type": "code",
   "execution_count": null,
   "metadata": {},
   "outputs": [],
   "source": [
    "learn_twitter = language_model_learner(twitter_lm, pretrained_model=URLs.WT103_1,drop_mult=0.5)\n",
    "learn_twitter.fit_one_cycle(cyc_len=1, max_lr=1e-3, moms=(0.8, 0.7))"
   ]
  },
  {
   "cell_type": "code",
   "execution_count": null,
   "metadata": {
    "scrolled": true
   },
   "outputs": [],
   "source": [
    "learn_twitter.unfreeze()\n",
    "learn_twitter.fit_one_cycle(cyc_len=10, max_lr=1e-3, moms=(0.8, 0.7))"
   ]
  },
  {
   "cell_type": "code",
   "execution_count": null,
   "metadata": {},
   "outputs": [],
   "source": [
    "# Save the fine-tuned encoder (Uncomment the line given below)\n",
    "learn_twitter.save_encoder('ft_enc_kaggle_v1')"
   ]
  },
  {
   "cell_type": "markdown",
   "metadata": {},
   "source": [
    "### Load Vocabulary\n",
    "This assumes that we have a fine-tuned language model's numericalized vocabulary ```vocab.pkl``` in the same directory as the notebook."
   ]
  },
  {
   "cell_type": "code",
   "execution_count": 53,
   "metadata": {},
   "outputs": [],
   "source": [
    "#Save the Vocab to a Pickle file for later use\n",
    "# pickle.dump(twitter_lm.train_ds.vocab, open(f'vocab.pkl','wb'))\n",
    "vocab_load = pickle.load(open('vocab.pkl', 'rb'))"
   ]
  },
  {
   "cell_type": "markdown",
   "metadata": {},
   "source": [
    "Various values of momentum, dropout and learning rates were tried to find the best values of these parameters. The below parameters are applied in a for loop to train on each topic one by one, and then appending the predictions to a common file for comparison with the gold reference."
   ]
  },
  {
   "cell_type": "code",
   "execution_count": 4,
   "metadata": {
    "scrolled": true
   },
   "outputs": [],
   "source": [
    "for topic in train_orig.Target.unique():\n",
    "    print(\"Topic: \",topic)\n",
    "    #learn_twitter=learn_twitter_org\n",
    "        # Get only those tweets that pertain to a single topic in the training data\n",
    "    train_topic = train.loc[train_orig['Target'] == topic]\n",
    "    # Write train to csv\n",
    "    train_topic.to_csv(path/'train_topic.csv', index=False, header=False)\n",
    "    # Classifier model data\n",
    "    data_clas = TextClasDataBunch.from_csv(path, 'train_topic.csv', vocab=vocab_load, min_freq=7, bs=64)\n",
    "    data_clas.save()\n",
    "    learn = text_classifier_learner(data_clas, drop_mult=0.5)\n",
    "    learn.load_encoder('ft_enc_kaggle_v1')\n",
    "    learn.freeze()\n",
    "\n",
    "    #Find Optimum Learning Rate\n",
    "    learn.lr_find(start_lr=1e-6, end_lr=1e2)\n",
    "    learn.recorder.plot()\n",
    "\n",
    "    #Train the Classifier by Gradually Unfreezing the Layers\n",
    "    learn.fit_one_cycle(cyc_len=1, max_lr=1e-3, moms=(0.8, 0.7))\n",
    "    #Unfreeze Layer\n",
    "    learn.freeze_to(-2)\n",
    "    learn.fit_one_cycle(3, slice(1e-4,1e-2), moms=(0.8,0.7))\n",
    "    #Unfreeze Layer\n",
    "    learn.freeze_to(-3)\n",
    "    learn.fit_one_cycle(3, slice(1e-5,5e-3), moms=(0.8,0.7))\n",
    "    #Unfreeze All Layers\n",
    "    learn.unfreeze()\n",
    "    learn.fit_one_cycle(3, slice(1e-5,1e-3), moms=(0.8,0.7))\n",
    "    # get predictions\n",
    "    preds, targets = learn.get_preds()\n",
    "    predictions = np.argmax(preds, axis=1)\n",
    "    pd.crosstab(predictions, targets)\n",
    "\n",
    "    test = pd.read_csv(path/testfile, delimiter='\\t', header=0, encoding = \"latin-1\")\n",
    "    # test = test.drop(['ID'], axis=1)\n",
    "    # test['Tweet'] = test['Tweet'].apply(clean_ascii)\n",
    "    test.head()\n",
    "\n",
    "    test_pred = test[['Target', 'Tweet']]\n",
    "    test_pred = test_pred.loc[test_pred['Target'] == topic]\n",
    "    test_pred.tail()\n",
    "\n",
    "    test_pred['Stance'] = test_pred['Tweet'].apply(lambda row: str(learn.predict(row)[0]))\n",
    "    file_to_save=\"predicted_\"+str(topic.replace(\" \", \"_\"))+\".txt\"\n",
    "    test_pred.to_csv(path/'eval'/file_to_save, sep='\\t', index=True,\n",
    "                     header=['Target', 'Tweet', 'Stance'], index_label='ID')\n",
    "    if(topic==\"Atheism\"):\n",
    "        preds_document=test_pred\n",
    "    else:\n",
    "        preds_document=preds_document.append(test_pred, ignore_index=True)"
   ]
  },
  {
   "cell_type": "markdown",
   "metadata": {},
   "source": [
    "### Output the predicted dataset to a text file for comparison with the gold reference"
   ]
  },
  {
   "cell_type": "code",
   "execution_count": 56,
   "metadata": {},
   "outputs": [],
   "source": [
    "preds_document.to_csv(path/'eval'/'predicted.txt', sep='\\t', index=True,\n",
    "                      header=['Target', 'Tweet', 'Stance'], index_label='ID')"
   ]
  },
  {
   "cell_type": "markdown",
   "metadata": {},
   "source": [
    "The evaluation script is in ```data/eval/``` is run with the following command:\n",
    "\n",
    "    perl eval.py gold.txt predicted.txt\n",
    "\n",
    "    ============\n",
    "    Results                          \n",
    "    ============\n",
    "    FAVOR     precision: 0.5842 recall: 0.5362 f-score: 0.5592\n",
    "    AGAINST   precision: 0.7404 recall: 0.7301 f-score: 0.7352\n",
    "    ------------\n",
    "    Macro F: 0.6472"
   ]
  },
  {
   "cell_type": "markdown",
   "metadata": {},
   "source": [
    "Based on the above result, we can see that augmenting the training data with additional domain-specific data (i.e., Tweets) helps us obtain better F-scores for the stance classification task.\n",
    "\n",
    "This result is much closer to the winning result by *MITRE* (of 0.67). The improvement can be largely attributed to the language model fine-tuning step, where we augmented the language model parameters with the tokenized form of a much larger Tweet vocabulary (of 200,000 Tweets downloaded from Kaggle). It can be reasoned that using an even larger Tweet vocabulary (say a million words) could result in a further improvement. However, this would also significantly increase the training time during fine-tuning. In addition to vocabulary augmentation, more extensive hyperparameter tuning and careful classifier fine-tuning could result in further gains. "
   ]
  },
  {
   "cell_type": "markdown",
   "metadata": {},
   "source": [
    "# 6. Conclusions\n",
    "\n",
    "This notebook showed a training and classification pipeline for a PyTorch-based framework (*ULMFit*) for evaluating stance of Tweets towards a particular topic. It appears that with some basic data cleaning and augmentation with additional Twitter language data, the transfer learning approach using *ULMFit* can provide good classification accuracy F-scores (compared with the winning results from the SemEval 2016 winning team *MITRE*). \n",
    "\n",
    "The main benefit of using *ULMFit* is that it can perform classifier re-training with a *very limited amount of data* (fewer than 500 Tweets per topic in this dataset). However, since Twitter data is of a very different distribution from the pre-trained language model, the language model fine-tuning step is rather expensive (and can take significant time even on GPU). Once the language model is fine-tuned adequately, the classifier can perform per-topic classification relatively easily and with a reasonable level of accuracy comparable with the best score by *MITRE*. \n",
    "\n",
    "We can likely further improve the classification accuracy across all topics with the below steps:\n",
    "\n",
    "1.  Augment the language model vocabulary with a larger subset of Twitter Sentiment140 dataset to improve the model's domain understanding of Tweet syntax\n",
    "\n",
    "2.  Perform additional fine-tuning on the training hyperparameters in both the language model fune-tuning and the classifier fine-tuning stages. \n",
    "\n",
    "3.  Plug in a pre-trained language model that was trained on a large Twitter dataset (if such a model becomes available in the future!)\n",
    "\n",
    "Tweets are sufficiently different from typical language data used to generate pre-trained language models, and  hence are an interesting usecase for analyzing the effectiveness of transfer learning techniques. It will be interesting to see how transfer learning techniques for NLP tasks evolve with time."
   ]
  }
 ],
 "metadata": {
  "kernelspec": {
   "display_name": "Python 3",
   "language": "python",
   "name": "python3"
  },
  "language_info": {
   "codemirror_mode": {
    "name": "ipython",
    "version": 3
   },
   "file_extension": ".py",
   "mimetype": "text/x-python",
   "name": "python",
   "nbconvert_exporter": "python",
   "pygments_lexer": "ipython3",
   "version": "3.6.7"
  }
 },
 "nbformat": 4,
 "nbformat_minor": 2
}
